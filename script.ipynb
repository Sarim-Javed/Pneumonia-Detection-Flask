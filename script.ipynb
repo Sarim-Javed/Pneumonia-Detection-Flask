{
 "cells": [
  {
   "cell_type": "code",
   "execution_count": 1,
   "id": "4e4b8946",
   "metadata": {},
   "outputs": [],
   "source": [
    "import os\n",
    "import numpy as np\n",
    "import flask\n",
    "import pickle\n",
    "from flask import Flask, render_template, request, Response, jsonify\n",
    "from tensorflow.keras.preprocessing.image import ImageDataGenerator\n",
    "from keras.preprocessing.image import img_to_array\n",
    "import tensorflow as tf\n",
    "#from util import base64_to_pil\n",
    "\n",
    "from PIL import Image\n",
    "from tensorflow.keras.preprocessing import image"
   ]
  },
  {
   "cell_type": "code",
   "execution_count": null,
   "id": "f760cd7c",
   "metadata": {},
   "outputs": [
    {
     "name": "stdout",
     "output_type": "stream",
     "text": [
      "Model loaded. Start serving...\n",
      " * Serving Flask app '__main__'\n",
      " * Debug mode: off\n"
     ]
    },
    {
     "name": "stderr",
     "output_type": "stream",
     "text": [
      "WARNING: This is a development server. Do not use it in a production deployment. Use a production WSGI server instead.\n",
      " * Running on http://127.0.0.1:5000\n",
      "Press CTRL+C to quit\n",
      "127.0.0.1 - - [16/May/2024 04:55:47] \"GET / HTTP/1.1\" 200 -\n",
      "127.0.0.1 - - [16/May/2024 04:55:47] \"GET /favicon.ico HTTP/1.1\" 404 -\n"
     ]
    },
    {
     "name": "stdout",
     "output_type": "stream",
     "text": [
      "\u001b[1m1/1\u001b[0m \u001b[32m━━━━━━━━━━━━━━━━━━━━\u001b[0m\u001b[37m\u001b[0m \u001b[1m0s\u001b[0m 477ms/step\n"
     ]
    },
    {
     "name": "stderr",
     "output_type": "stream",
     "text": [
      "127.0.0.1 - - [16/May/2024 04:57:02] \"POST /result2 HTTP/1.1\" 200 -\n"
     ]
    }
   ],
   "source": [
    "# Declare a flask app\n",
    "app = Flask(__name__)\n",
    "\n",
    "\n",
    "#print('Model loaded. Check http://127.0.0.1:5000/')\n",
    "\n",
    "loaded_model = pickle.load(open(\"cnn_model.pkl\", \"rb\"))\n",
    "\n",
    "print('Model loaded. Start serving...')\n",
    "\n",
    "\n",
    "#MODEL_PATH = 'models/oldModel.h5'\n",
    "\n",
    "#model = load_model(MODEL_PATH)\n",
    "\n",
    "\n",
    "def model_predict(img_path):\n",
    "    \n",
    "    img = image.load_img(img_path, target_size=(120,120))\n",
    "    \n",
    "    img_array = tf.keras.utils.img_to_array(img)\n",
    "    img_generator = ImageDataGenerator(rescale = 1./255)\n",
    "    img_array = img_generator.standardize(img_array)\n",
    "\n",
    "    #img_array = tf.expand_dims(img_array, 0) # Create a batch\n",
    "    img_array = img_array.reshape(1 , 120 ,120 ,3)\n",
    "\n",
    "    predictions = loaded_model.predict(img_array)\n",
    "    #result = loaded_model.predict(img_array)\n",
    "\n",
    "    #result = predictions[0,0]\n",
    "    \n",
    "    return predictions\n",
    "\n",
    "# routes\n",
    "@app.route(\"/\", methods=['GET', 'POST'])\n",
    "def main():\n",
    "    return render_template(\"index.html\")\n",
    "\n",
    "@app.route(\"/result2\", methods = ['GET', 'POST'])\n",
    "def get_output():\n",
    "    if request.method == 'POST':\n",
    "        dummy = 'success'\n",
    "        #img = request.files['my_image']\n",
    "        img = request.files['file']\n",
    "\n",
    "        img_path = \"static/\" + img.filename\n",
    "        img.save(img_path)\n",
    "\n",
    "        p = model_predict(img_path)\n",
    "        \n",
    "        result = p[0][0]\n",
    "        \n",
    "        if result >0.5:\n",
    "            #return jsonify(result=\"PNEMONIA\")\n",
    "            prediction = 'PNEMONIA'\n",
    "        else:\n",
    "            #return jsonify(result=\"NORMAL\")\n",
    "            prediction = 'Normal'\n",
    "\n",
    "    #return render_template(\"result2.html\", prediction = dummy)\n",
    "    return render_template(\"result2.html\", prediction = prediction, img_path = img_path)\n",
    "    \n",
    "\n",
    "if __name__ == '__main__':\n",
    "    app.run()\n"
   ]
  },
  {
   "cell_type": "code",
   "execution_count": null,
   "id": "5f344ce9",
   "metadata": {},
   "outputs": [],
   "source": []
  },
  {
   "cell_type": "code",
   "execution_count": null,
   "id": "9c14019e",
   "metadata": {},
   "outputs": [],
   "source": []
  },
  {
   "cell_type": "code",
   "execution_count": null,
   "id": "66034852",
   "metadata": {},
   "outputs": [],
   "source": []
  },
  {
   "cell_type": "code",
   "execution_count": null,
   "id": "50cf7aad",
   "metadata": {},
   "outputs": [],
   "source": []
  },
  {
   "cell_type": "code",
   "execution_count": null,
   "id": "0b0bf4c7",
   "metadata": {},
   "outputs": [],
   "source": []
  },
  {
   "cell_type": "code",
   "execution_count": null,
   "id": "de241f09",
   "metadata": {},
   "outputs": [],
   "source": []
  },
  {
   "cell_type": "code",
   "execution_count": null,
   "id": "13cb8acb",
   "metadata": {},
   "outputs": [],
   "source": []
  }
 ],
 "metadata": {
  "kernelspec": {
   "display_name": "Python 3 (ipykernel)",
   "language": "python",
   "name": "python3"
  },
  "language_info": {
   "codemirror_mode": {
    "name": "ipython",
    "version": 3
   },
   "file_extension": ".py",
   "mimetype": "text/x-python",
   "name": "python",
   "nbconvert_exporter": "python",
   "pygments_lexer": "ipython3",
   "version": "3.11.9"
  }
 },
 "nbformat": 4,
 "nbformat_minor": 5
}
